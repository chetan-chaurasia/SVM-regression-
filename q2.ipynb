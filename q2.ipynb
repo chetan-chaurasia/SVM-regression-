{
 "cells": [
  {
   "cell_type": "code",
   "execution_count": 24,
   "id": "0db2a7de",
   "metadata": {},
   "outputs": [],
   "source": [
    "import numpy as np\n",
    "import torch\n",
    "import torchvision\n",
    "import torchvision.transforms as transforms\n",
    "from torch.utils.data import DataLoader, random_split\n",
    "from sklearn.decomposition import PCA\n",
    "from sklearn.svm import SVC\n",
    "from sklearn.metrics import classification_report, accuracy_score\n",
    "import matplotlib.pyplot as plt\n",
    "from sklearn.model_selection import train_test_split, GridSearchCV"
   ]
  },
  {
   "cell_type": "code",
   "execution_count": 14,
   "id": "8d0b239e",
   "metadata": {},
   "outputs": [
    {
     "name": "stdout",
     "output_type": "stream",
     "text": [
      "Files already downloaded and verified\n",
      "Files already downloaded and verified\n"
     ]
    }
   ],
   "source": [
    "transform = transforms.Compose([transforms.RandomHorizontalFlip(),transforms.RandomRotation(60),transforms.ToTensor(),transforms.Normalize((0.5, 0.5, 0.5), (0.5, 0.5, 0.5))])\n",
    "train_dataset = torchvision.datasets.CIFAR10(root='./data', train=True, download=True, transform=transform)\n",
    "test_dataset = torchvision.datasets.CIFAR10(root='./data', train=False, download=True, transform=transform)\n",
    "total_size = len(train_dataset)\n",
    "train_size = int(0.8 * total_size)\n",
    "val_size = total_size - train_size\n",
    "\n",
    "# Split the dataset into training and validation set\n",
    "train_dataset, val_dataset = random_split(train_dataset, [train_size, val_size], generator=torch.Generator().manual_seed(42))\n",
    "\n",
    "# data loaders\n",
    "train_loader = DataLoader(dataset=train_dataset, batch_size=64, shuffle=True)\n",
    "val_loader = DataLoader(dataset=val_dataset, batch_size=64, shuffle=False)\n",
    "test_loader = DataLoader(dataset=test_dataset, batch_size=64, shuffle=False)"
   ]
  },
  {
   "cell_type": "code",
   "execution_count": 15,
   "id": "126e667f",
   "metadata": {},
   "outputs": [],
   "source": [
    "def flatten_images(data_loader):\n",
    "    flat_images = []\n",
    "    labels = []\n",
    "    for images, labels_batch in data_loader:\n",
    "        flat_images.append(images.view(images.size(0), -1).numpy())\n",
    "        labels.append(labels_batch.numpy())\n",
    "    return np.vstack(flat_images), np.hstack(labels)\n"
   ]
  },
  {
   "cell_type": "code",
   "execution_count": 16,
   "id": "f94a82c7",
   "metadata": {},
   "outputs": [],
   "source": [
    "def apply_pca(data, num_components):\n",
    "    pca = PCA(n_components=num_components)\n",
    "    return pca.fit_transform(data)"
   ]
  },
  {
   "cell_type": "code",
   "execution_count": 17,
   "id": "c8b2a601",
   "metadata": {},
   "outputs": [],
   "source": [
    "def evaluate_linear_svm(model, x_val_pca, y_val):\n",
    "    y_pred_linear = model.predict(x_val_pca)\n",
    "    print(\"Linear SVM Classification Report:\")\n",
    "    print(classification_report(y_val, y_pred_linear))"
   ]
  },
  {
   "cell_type": "code",
   "execution_count": 18,
   "id": "3e0c181e",
   "metadata": {},
   "outputs": [],
   "source": [
    "def evaluate_rbf_svm(model, x_val_pca, y_val):\n",
    "    y_pred_rbf = model.predict(x_val_pca)\n",
    "    print(\"RBF SVM Classification Report:\")\n",
    "    print(classification_report(y_val, y_pred_rbf))"
   ]
  },
  {
   "cell_type": "code",
   "execution_count": 19,
   "id": "ca722541",
   "metadata": {},
   "outputs": [],
   "source": [
    "def visualize_images(true_labels, pred_labels, images, title):\n",
    "    correct_indices = np.where(true_labels == pred_labels)[0]\n",
    "    incorrect_indices = np.where(true_labels != pred_labels)[0]\n",
    "\n",
    "    plt.figure(figsize=(12, 6))\n",
    "\n",
    "    # Plot Correctly Classified Images\n",
    "    plt.subplot(1, 2, 1)\n",
    "    plt.title('Correctly Classified')\n",
    "    for i in range(5):\n",
    "        plt.imshow(images[correct_indices[i]].reshape(32, 32, 3).transpose(1, 2, 0))  # Reshape for image display\n",
    "        plt.axis('off')\n",
    "        plt.show()\n",
    "\n",
    "    # Plot Incorrectly Classified Images\n",
    "    plt.subplot(1, 2, 2)\n",
    "    plt.title('Incorrectly Classified')\n",
    "    for i in range(5):\n",
    "        plt.imshow(images[incorrect_indices[i]].reshape(32, 32, 3).transpose(1, 2, 0))\n",
    "        plt.axis('off')\n",
    "        plt.show()\n",
    "\n",
    "    plt.suptitle(title)\n",
    "    plt.show()"
   ]
  },
  {
   "cell_type": "code",
   "execution_count": 21,
   "id": "892f6c0a",
   "metadata": {},
   "outputs": [],
   "source": [
    "x_train_flat, y_train = flatten_images(train_loader)\n",
    "x_val_flat, y_val = flatten_images(val_loader)\n",
    "x_test_flat, y_test = flatten_images(test_loader)"
   ]
  },
  {
   "cell_type": "code",
   "execution_count": 22,
   "id": "1a8288dd",
   "metadata": {},
   "outputs": [],
   "source": [
    "x_train_pca = apply_pca(x_train_flat, 66)\n",
    "x_val_pca = apply_pca(x_val_flat, 66)\n",
    "x_test_pca = apply_pca(x_test_flat, 66)"
   ]
  },
  {
   "cell_type": "code",
   "execution_count": null,
   "id": "a6157acb",
   "metadata": {},
   "outputs": [],
   "source": [
    "# Train and evaluate RBF SVM by choosing the best possible parameters \n",
    "rbf_svm = SVC(kernel='rbf')\n",
    "param_grid = {'C': [1,10,100], 'gamma': [0.0001,0.001]}\n",
    "grid_search = GridSearchCV(rbf_svm, param_grid, cv=5, scoring='neg_mean_squared_error')\n",
    "grid_search.fit(x_train_pca, y_train)\n",
    "best_rbfsvm_model = grid_search.best_estimator_\n",
    "print(\"Tuned Parameters: \", grid_search.best_params_)\n",
    "evaluate_rbf_svm(best_rbfsvm_model, x_test_pca, y_test)"
   ]
  },
  {
   "cell_type": "code",
   "execution_count": null,
   "id": "a622fd80",
   "metadata": {},
   "outputs": [],
   "source": [
    "# Train and evaluate linear SVM by choosing the best possible parameters\n",
    "lin_svm = SVC(kernel='linear')\n",
    "param_grid1 = {'C': [1,10,100]}\n",
    "grid_search1 = GridSearchCV(lin_svm, param_grid1, cv=5, scoring='neg_mean_squared_error')\n",
    "grid_search1.fit(x_train_pca, y_train)\n",
    "best_linsvm_model = grid_search1.best_estimator_\n",
    "print(\"Tuned Parameters: \", grid_search1.best_params_)\n",
    "evaluate_linear_svm(best_linsvm_model, x_test_pca, y_test)"
   ]
  },
  {
   "cell_type": "code",
   "execution_count": null,
   "id": "7b6426ab",
   "metadata": {},
   "outputs": [],
   "source": [
    "# Visualize Correctly and Incorrectly Classified Images\n",
    "visualize_images(y_val, best_linsvm_model.predict(x_val_pca), x_val, 'Linear SVM')\n",
    "visualize_images(y_val, best_rbfsvm_model.predict(x_val_pca), x_val, 'RBF SVM')"
   ]
  },
  {
   "cell_type": "code",
   "execution_count": null,
   "id": "d2188da7",
   "metadata": {},
   "outputs": [],
   "source": []
  }
 ],
 "metadata": {
  "kernelspec": {
   "display_name": "Python 3 (ipykernel)",
   "language": "python",
   "name": "python3"
  },
  "language_info": {
   "codemirror_mode": {
    "name": "ipython",
    "version": 3
   },
   "file_extension": ".py",
   "mimetype": "text/x-python",
   "name": "python",
   "nbconvert_exporter": "python",
   "pygments_lexer": "ipython3",
   "version": "3.11.5"
  }
 },
 "nbformat": 4,
 "nbformat_minor": 5
}
